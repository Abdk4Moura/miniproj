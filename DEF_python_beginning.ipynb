{
 "cells": [
  {
   "cell_type": "code",
   "execution_count": 1,
   "metadata": {},
   "outputs": [
    {
     "name": "stdout",
     "output_type": "stream",
     "text": [
      "Enter anything: \n",
      "hfjdkldo\n",
      "200\n",
      "Letters of the name of something\n",
      "200.05\n",
      "Truehfjdkldo\n",
      "2 3 5 8\n",
      "32\n"
     ]
    }
   ],
   "source": [
    "##\n",
    "number = 200\n",
    "String = \"Letters of the name of something\"\n",
    "Float = 200.05\n",
    "condition = True or False\n",
    "inp = input(\"Enter anything: \\n\")\n",
    "print(str(number) + \"\\n\" + String + \"\\n\" + str(Float) + \"\\n\" + str(condition) + inp)\n",
    "print(2, 3, 5, 8)\n",
    "print(len(String))\n",
    "\n"
   ]
  },
  {
   "cell_type": "code",
   "execution_count": 2,
   "metadata": {},
   "outputs": [
    {
     "name": "stdout",
     "output_type": "stream",
     "text": [
      "0\n",
      "1\n",
      "2\n",
      "3\n",
      "4\n"
     ]
    }
   ],
   "source": [
    "for i in range(5):\n",
    "    print(i)"
   ]
  },
  {
   "cell_type": "code",
   "execution_count": 5,
   "metadata": {},
   "outputs": [
    {
     "name": "stdout",
     "output_type": "stream",
     "text": [
      "Enter a word: Abdulkabir\n",
      "Enter the character you wish to search for: z\n",
      "Character not found!\n"
     ]
    }
   ],
   "source": [
    "## I want to find a particlular character in a string:-\n",
    "string = input(\"Enter a word: \")\n",
    "character = input(\"Enter the character you wish to search for: \")\n",
    "flag = False\n",
    "\n",
    "for i in range(len(string)):\n",
    "    if character == string[i]:\n",
    "        print(\"Character found in string!\")\n",
    "        flag = True\n",
    "        break\n",
    "\n",
    "if flag == False:\n",
    "    print(\"Character not found!\")"
   ]
  },
  {
   "cell_type": "code",
   "execution_count": 15,
   "metadata": {},
   "outputs": [
    {
     "name": "stdout",
     "output_type": "stream",
     "text": [
      "ello\n"
     ]
    }
   ],
   "source": [
    "string = \"Hello Boy\"\n",
    "print(string[1:4+1])"
   ]
  },
  {
   "cell_type": "code",
   "execution_count": 32,
   "metadata": {},
   "outputs": [
    {
     "name": "stdout",
     "output_type": "stream",
     "text": [
      "input your favourite character:halloween\n",
      "what word do you intend to search?:neo\n",
      "Length of input is 9\n",
      "LOOP\n",
      "LOOP\n",
      "LOOP\n",
      "LOOP\n",
      "LOOP\n",
      "LOOP\n",
      "LOOP\n",
      "LOOP\n",
      "LOOP\n",
      "BIG IF\n",
      "I: 8\n",
      "X: 3\n",
      "Z: n\n",
      "OUT\n",
      "Sorry word not found\n"
     ]
    }
   ],
   "source": [
    "inp = input(\"input your favourite character:\")\n",
    "salva = input(\"what word do you intend to search?:\")\n",
    "x=len(salva)\n",
    "nas = False\n",
    "print(\"Length of input is\", len(inp))\n",
    "\n",
    "for i in range(len(inp)):\n",
    "    print(\"LOOP\")\n",
    "    if salva[0] == inp[i]:\n",
    "        print(\"BIG IF\")\n",
    "        z = inp[i:x+i]\n",
    "        print(\"I:\", i)\n",
    "        print(\"X:\", x)\n",
    "        print(\"Z:\", z)\n",
    "        if salva == z:\n",
    "            print(\"SMALL IF\")\n",
    "            nas = True\n",
    "            print(\"YES! \" + salva + \" is in your favourite character\")\n",
    "            break\n",
    "\n",
    "\n",
    "print(\"OUT\")\n",
    "if nas == False: \n",
    "    print(\"Sorry word not found\")"
   ]
  },
  {
   "cell_type": "code",
   "execution_count": 38,
   "metadata": {},
   "outputs": [
    {
     "ename": "IndexError",
     "evalue": "string index out of range",
     "output_type": "error",
     "traceback": [
      "\u001b[0;31m---------------------------------------------------------------------------\u001b[0m",
      "\u001b[0;31mIndexError\u001b[0m                                Traceback (most recent call last)",
      "\u001b[0;32m<ipython-input-38-13d536691030>\u001b[0m in \u001b[0;36m<module>\u001b[0;34m\u001b[0m\n\u001b[1;32m      1\u001b[0m \u001b[0mstring\u001b[0m \u001b[0;34m=\u001b[0m \u001b[0;34m\"halloween\"\u001b[0m\u001b[0;34m\u001b[0m\u001b[0;34m\u001b[0m\u001b[0m\n\u001b[0;32m----> 2\u001b[0;31m \u001b[0mstring\u001b[0m\u001b[0;34m[\u001b[0m\u001b[0;36m11\u001b[0m\u001b[0;34m]\u001b[0m\u001b[0;34m\u001b[0m\u001b[0;34m\u001b[0m\u001b[0m\n\u001b[0m",
      "\u001b[0;31mIndexError\u001b[0m: string index out of range"
     ]
    }
   ],
   "source": [
    "string = \"halloween\"\n",
    "string[11]"
   ]
  },
  {
   "cell_type": "code",
   "execution_count": 42,
   "metadata": {},
   "outputs": [
    {
     "name": "stdout",
     "output_type": "stream",
     "text": [
      "insert a character:allowance\n",
      "check for random character ceo\n",
      "the inputed text was not found in the previous text\n"
     ]
    }
   ],
   "source": [
    "inpute = input(\"insert a character:\")\n",
    "scan = input(\"check for random character \")\n",
    "for r in range(len(inpute)):\n",
    "    if scan[0] == inpute[r]:\n",
    "        if scan == inpute[r:r+len(scan)]:\n",
    "            print(\"the inputed text was found in the previous text\")\n",
    "            break\n",
    "        if scan != inpute[r:r+len(scan)]:\n",
    "            print(\"the inputed text was not found in the previous text\")\n",
    "            break\n",
    "    "
   ]
  },
  {
   "cell_type": "code",
   "execution_count": 48,
   "metadata": {},
   "outputs": [
    {
     "name": "stdout",
     "output_type": "stream",
     "text": [
      "8\n"
     ]
    }
   ],
   "source": [
    "umar = [5,6,3,7,8,9]\n",
    "print(umar[4])\n"
   ]
  },
  {
   "cell_type": "code",
   "execution_count": null,
   "metadata": {},
   "outputs": [],
   "source": []
  }
 ],
 "metadata": {
  "kernelspec": {
   "display_name": "Python 3",
   "language": "python",
   "name": "python3"
  },
  "language_info": {
   "codemirror_mode": {
    "name": "ipython",
    "version": 3
   },
   "file_extension": ".py",
   "mimetype": "text/x-python",
   "name": "python",
   "nbconvert_exporter": "python",
   "pygments_lexer": "ipython3",
   "version": "3.8.3"
  }
 },
 "nbformat": 4,
 "nbformat_minor": 4
}
