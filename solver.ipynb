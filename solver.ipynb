{
 "cells": [
  {
   "cell_type": "code",
   "execution_count": 3,
   "metadata": {},
   "outputs": [
    {
     "name": "stdout",
     "output_type": "stream",
     "text": [
      "Enter an equation: x + 20 = 500\n"
     ]
    },
    {
     "data": {
      "text/plain": [
       "[['2', '0', '5', '0', '0'], ['x']]"
      ]
     },
     "execution_count": 3,
     "metadata": {},
     "output_type": "execute_result"
    }
   ],
   "source": [
    "### MAIN THING:\n",
    "#1- The most important things in this is writing a code that can solve equations within reasonable means\n",
    "#2- Should be able to calculate the important parts of a graph:\n",
    "#   1- Gradient of a graph at a point\n",
    "#   2- Intersections with other lines\n",
    "\n",
    "x = input(\"Enter an equation: \")\n",
    "def math_parser(entry):\n",
    "    variables = []\n",
    "    numbers = []\n",
    "    for i in entry:\n",
    "        if i.isalpha():\n",
    "            variables += i\n",
    "        elif i.isnumeric():\n",
    "            numbers += i\n",
    "    return [numbers, variables]\n",
    "\n",
    "math_parser(x)"
   ]
  },
  {
   "cell_type": "code",
   "execution_count": null,
   "metadata": {},
   "outputs": [],
   "source": []
  }
 ],
 "metadata": {
  "kernelspec": {
   "display_name": "Python 3",
   "language": "python",
   "name": "python3"
  },
  "language_info": {
   "codemirror_mode": {
    "name": "ipython",
    "version": 3
   },
   "file_extension": ".py",
   "mimetype": "text/x-python",
   "name": "python",
   "nbconvert_exporter": "python",
   "pygments_lexer": "ipython3",
   "version": "3.8.3"
  }
 },
 "nbformat": 4,
 "nbformat_minor": 4
}
