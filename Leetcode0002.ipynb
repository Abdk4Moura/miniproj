{
 "cells": [
  {
   "cell_type": "code",
   "execution_count": null,
   "metadata": {},
   "outputs": [],
   "source": [
    "# SEARCH INSERT PROBLEM (EASY)-->\n",
    "\n",
    "## First Algorithm: O(n)\n",
    "def searchInsert(nums: list, target: int):\n",
    "    for i in nums:\n",
    "        if nums[i] >= target:\n",
    "            return i\n",
    "    return len(nums)\n",
    "\n",
    "## Second: O(log n) --> Binary Search:\n",
    "def searchInsert(nums: list, target: int):\n",
    "    l, r = 0, len(nums)\n",
    "    while l < r - 1:\n",
    "        mid = (l + r) >> 1\n",
    "        if nums[mid] == target:\n",
    "            return mid\n",
    "        elif nums[mid] > target:\n",
    "            r = mid\n",
    "        else:\n",
    "            l = mid\n",
    "    return l if nums[l] >= target else r\n",
    "## Second: 0(log n) --> Just a slightly different solution:\n",
    "def searchInsert(nums: list, target: int):\n",
    "    l, r = 0, len(nums)-1\n",
    "    while l <= r:\n",
    "        mid = (l+r) >> 1\n",
    "        if nums[mid] == target:\n",
    "            return mid\n",
    "        elif nums[mid] == target:\n",
    "            r = mid-1\n",
    "        else:\n",
    "            l = mid+1\n",
    "    return l\n",
    "\n",
    "## Third (This is not my solution; it's not even as good as these above, 80ms):\n",
    "def searchInsert(nums, target):\n",
    "    lo, hi = 0, len(nums)-1\n",
    "    if nums[0] > target:\n",
    "        return 0\n",
    "    elif nums[-1] < target:\n",
    "        return hi+1\n",
    "    while lo <= high:\n",
    "        mid = lo + (hi - lo) // 2\n",
    "        if nums[mid] == target:\n",
    "            return mid\n",
    "        elif nums[mid] > target:\n",
    "            lo = mid+1\n",
    "        else:\n",
    "            hi = mid-1\n",
    "    return lo\n",
    "\n",
    "## Best Memory Solution:-\n",
    "def searchInsert(nums: list, target: int):\n",
    "    p = 0\n",
    "    while p < len(nums) and nums[p] < target:\n",
    "        p += 1\n",
    "    return p"
   ]
  },
  {
   "cell_type": "code",
   "execution_count": 8,
   "metadata": {},
   "outputs": [
    {
     "name": "stdout",
     "output_type": "stream",
     "text": [
      "1th recursive call\n",
      "2th recursive call\n"
     ]
    },
    {
     "data": {
      "text/plain": [
       "1"
      ]
     },
     "execution_count": 8,
     "metadata": {},
     "output_type": "execute_result"
    }
   ],
   "source": [
    "# FIRST BAD VERSION PROBLEM (Easy)-->\n",
    "def isBadVersion(n):\n",
    "    return n >= bad\n",
    "\n",
    "## First One:-\n",
    "def firstBadVersion(n: int):\n",
    "    l, r = 0, n\n",
    "    while l <= r:\n",
    "        mid = (l+r) >> 1\n",
    "        if isBadVersion(mid):\n",
    "            r = mid-1\n",
    "        elif isBadVersion(mid+1):\n",
    "            return mid+1\n",
    "        else:\n",
    "            l = mid + 1\n",
    "    return l\n",
    "\n",
    "def firstBadVersion(n: int):\n",
    "    global i\n",
    "    print(f\"{i}th recursive call\")\n",
    "    i += 1\n",
    "    if not isBadVersion(n) and n != 1:\n",
    "        return n+1\n",
    "    elif n == 1:\n",
    "        return 1\n",
    "    return firstBadVersion(n-1)\n",
    "\n",
    "i, bad = 1, 2\n",
    "firstBadVersion(2)"
   ]
  },
  {
   "cell_type": "code",
   "execution_count": 10,
   "metadata": {},
   "outputs": [
    {
     "name": "stdout",
     "output_type": "stream",
     "text": [
      "[98, \"Type of 'args': <class 'tuple'>\"]\n",
      "Content: Hello; Author: Schneider;\n"
     ]
    },
    {
     "data": {
      "text/plain": [
       "[10, \"Type of 'args': <class 'tuple'>\"]"
      ]
     },
     "execution_count": 10,
     "metadata": {},
     "output_type": "execute_result"
    }
   ],
   "source": [
    "## UNDEFINED/UNKNOWN Arguments:-\n",
    "def UndefinedArgs(*args):\n",
    "    biggest = args[0]\n",
    "    for i in args:\n",
    "        if i > biggest:\n",
    "            biggest = i\n",
    "    return [biggest, f\"Type of 'args': {type(args)}\"]\n",
    "\n",
    "## UNDEFINED/UNKOWN Named Arguments:\n",
    "def UndefinedNamedArgs(**kwargs):\n",
    "    print(kwargs)\n",
    "# will print a dictionary because kwargs is a dictionary\n",
    "\n",
    "def Blogpost(content, author, **kwargs):\n",
    "    if kwargs.get('tag'):\n",
    "        ## This should contain something in case; just like a blog post; otherwise it should just pass :)\n",
    "        pass\n",
    "    if kwargs.get('date'):\n",
    "        pass\n",
    "    print(f\"Content: {content}; Author: {author};\")\n",
    "    return [kwargs, content, author]\n",
    "\n",
    "## Combined Variable Arguments\n",
    "def combined_varargs(*args, **kwargs):\n",
    "    biggest = args[0]\n",
    "    for i in args:\n",
    "        if i > biggest:\n",
    "            biggest = i\n",
    "    return [biggest, [i for i in kwargs.values()]]\n",
    "\n",
    "## Unpacking Values of arguments:-\n",
    "nums = [1, 3, 5, 98, 0, 1, 2, 3]\n",
    "print(UndefinedArgs(*nums)) #--> Unpacking it's called\n",
    "Blogpost(\"Hello\", \"Schneider\", tag=\"something_else\", date=\"Well Leave this!\")\n",
    "UndefinedArgs(1,3,5,7,8,9,10)"
   ]
  },
  {
   "cell_type": "code",
   "execution_count": 1,
   "metadata": {},
   "outputs": [
    {
     "name": "stdout",
     "output_type": "stream",
     "text": [
      "34\n"
     ]
    }
   ],
   "source": [
    "## Lambda Functions:-\n",
    "hello = lambda *args: max(args)\n",
    "print(hello(1,2,3,34,2,20.10, 12))"
   ]
  },
  {
   "cell_type": "code",
   "execution_count": null,
   "metadata": {},
   "outputs": [],
   "source": [
    "def searchInsertRange(nums: list, target: int):\n",
    "    low, high = 0, len(nums)\n",
    "    \n",
    "    while high >= low:\n",
    "        mid = (low+high) >> 1\n",
    "        if nums[mid] == target:\n",
    "            start = low\n",
    "            first = end = mid\n",
    "            second = high\n",
    "            while start <= high:\n",
    "                mid1 = (first + start) >> 1\n",
    "                if nums[mid1] != target:\n",
    "                    start = mid+1\n",
    "                else:\n",
    "                    first = mid-1\n",
    "            if nums[start] != target:\n",
    "                start -= 1\n",
    "            while end <= second:\n",
    "                mid2 = (end + second) >> 1\n",
    "                if nums[mid2] != target:\n",
    "                    second = mid-1\n",
    "                else:\n",
    "                    end = mid+1\n",
    "                \n",
    "        elif nums[mid] > target:\n",
    "            high = mid-1\n",
    "        else:\n",
    "            low = mid+1"
   ]
  }
 ],
 "metadata": {
  "kernelspec": {
   "display_name": "Python 3",
   "language": "python",
   "name": "python3"
  },
  "language_info": {
   "codemirror_mode": {
    "name": "ipython",
    "version": 3
   },
   "file_extension": ".py",
   "mimetype": "text/x-python",
   "name": "python",
   "nbconvert_exporter": "python",
   "pygments_lexer": "ipython3",
   "version": "3.8.3"
  }
 },
 "nbformat": 4,
 "nbformat_minor": 4
}
